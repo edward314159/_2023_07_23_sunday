{
 "cells": [
  {
   "cell_type": "code",
   "execution_count": 1,
   "metadata": {},
   "outputs": [
    {
     "ename": "ModuleNotFoundError",
     "evalue": "No module named 'matplotlib'",
     "output_type": "error",
     "traceback": [
      "\u001b[0;31m---------------------------------------------------------------------------\u001b[0m",
      "\u001b[0;31mModuleNotFoundError\u001b[0m                       Traceback (most recent call last)",
      "Cell \u001b[0;32mIn[1], line 2\u001b[0m\n\u001b[1;32m      1\u001b[0m \u001b[39m#標準寫法\u001b[39;00m\n\u001b[0;32m----> 2\u001b[0m \u001b[39mimport\u001b[39;00m \u001b[39mmatplotlib\u001b[39;00m\u001b[39m.\u001b[39;00m\u001b[39mpyplot\u001b[39;00m \u001b[39mas\u001b[39;00m \u001b[39mplt\u001b[39;00m\n\u001b[1;32m      4\u001b[0m \u001b[39m# 1.製作figure\u001b[39;00m\n\u001b[1;32m      5\u001b[0m fig \u001b[39m=\u001b[39m plt\u001b[39m.\u001b[39mfigure()\n",
      "\u001b[0;31mModuleNotFoundError\u001b[0m: No module named 'matplotlib'"
     ]
    }
   ],
   "source": [
    "#標準寫法\n",
    "import matplotlib.pyplot as plt\n",
    "\n",
    "# 1.製作figure\n",
    "fig = plt.figure()\n",
    "\n",
    "# 2.在1.的figure上製作一個axes\n",
    "ax_1 = fig.add_subplot(1, 1, 1)\n",
    "\n",
    "# 3.將圖的數據儲存在axes中\n",
    "X = [0, 1, 2]\n",
    "Y = [3, 4, 5]\n",
    "ax_1.plot(X, Y)\n",
    "\n",
    "# 4.顯示圖\n",
    "plt.show()"
   ]
  },
  {
   "cell_type": "code",
   "execution_count": null,
   "metadata": {},
   "outputs": [],
   "source": [
    "figure = plt.figure()\n",
    "ax1 = figure.add_subplot(1,3,1)\n",
    "ax1.set_title(\"Axes1\")\n",
    "ax2 = figure.add_subplot(1,3,2)\n",
    "ax2.set_title(\"Axes2\")\n",
    "ax3 = figure.add_subplot(1,3,3)\n",
    "ax3.set_title(\"Axes3\")\n",
    "\n",
    "plt.show()"
   ]
  },
  {
   "cell_type": "code",
   "execution_count": null,
   "metadata": {},
   "outputs": [],
   "source": [
    "figure = plt.figure(figsize=(8,5),dpi=220)\n",
    "student = [80, 92, 75, 89, 69]\n",
    "axes = figure.add_subplot()\n",
    "axes.plot(['chinese', 'english', 'math', 'history', 'created'],student)\n",
    "plt.show()"
   ]
  },
  {
   "cell_type": "code",
   "execution_count": null,
   "metadata": {},
   "outputs": [],
   "source": [
    "figure = plt.figure(figsize=(8,5),dpi=220)\n",
    "stu1 = {'chinese':80, 'english':92, 'math':75, 'history':89, 'created':69}\n",
    "stu2 = {'chinese':70, 'english':83, 'math':60, 'history':92, 'created':77}\n",
    "axes = figure.add_subplot()\n",
    "axes.plot(stu1.keys(),stu1.values())\n",
    "axes.plot(stu2.keys(),stu2.values())\n",
    "plt.show()"
   ]
  }
 ],
 "metadata": {
  "kernelspec": {
   "display_name": "Python 3",
   "language": "python",
   "name": "python3"
  },
  "language_info": {
   "codemirror_mode": {
    "name": "ipython",
    "version": 3
   },
   "file_extension": ".py",
   "mimetype": "text/x-python",
   "name": "python",
   "nbconvert_exporter": "python",
   "pygments_lexer": "ipython3",
   "version": "3.10.12"
  },
  "orig_nbformat": 4
 },
 "nbformat": 4,
 "nbformat_minor": 2
}

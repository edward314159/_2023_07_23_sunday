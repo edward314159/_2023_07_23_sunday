{
 "cells": [
  {
   "cell_type": "code",
   "execution_count": 1,
   "metadata": {},
   "outputs": [
    {
     "data": {
      "text/plain": [
       "[['潘俊賢', 77, 58, 62, 98, 77],\n",
       " ['昌嘉洋', 50, 89, 54, 62, 79],\n",
       " ['黃柏宇', 55, 74, 54, 67, 64],\n",
       " ['馮耀中', 83, 98, 54, 93, 72],\n",
       " ['王怡珊', 53, 76, 73, 60, 95],\n",
       " ['余宗儒', 65, 84, 80, 83, 81],\n",
       " ['張天亨', 75, 68, 72, 95, 92],\n",
       " ['李蓉瑞', 55, 63, 92, 91, 79],\n",
       " ['林麗萍', 81, 78, 52, 67, 78],\n",
       " ['楊又源', 91, 59, 63, 85, 56],\n",
       " ['張莉雯', 56, 58, 91, 87, 70],\n",
       " ['黃政甫', 50, 66, 73, 100, 64],\n",
       " ['陳倩潔', 58, 55, 53, 87, 81],\n",
       " ['沈心利', 70, 94, 91, 59, 54],\n",
       " ['陳逸華', 67, 81, 72, 90, 58],\n",
       " ['劉耿琦', 83, 50, 57, 76, 86],\n",
       " ['黃必琪', 70, 63, 74, 100, 57],\n",
       " ['詹忠光', 94, 100, 59, 58, 57],\n",
       " ['楊又源', 81, 70, 83, 73, 60],\n",
       " ['陳冠霞', 98, 56, 64, 56, 94],\n",
       " ['胡芳瑜', 86, 72, 88, 60, 62],\n",
       " ['景歡燦', 52, 65, 73, 83, 76],\n",
       " ['林珈發', 82, 79, 59, 50, 55],\n",
       " ['林怡偉', 60, 82, 70, 99, 59],\n",
       " ['鄭琇亞', 75, 78, 54, 80, 59],\n",
       " ['黃必琪', 98, 70, 97, 93, 60],\n",
       " ['趙偉銘', 78, 97, 85, 65, 56],\n",
       " ['柯韋成', 51, 63, 89, 86, 50],\n",
       " ['劉昀天', 69, 82, 79, 88, 54],\n",
       " ['王良斌', 64, 58, 62, 65, 91]]"
      ]
     },
     "execution_count": 1,
     "metadata": {},
     "output_type": "execute_result"
    }
   ],
   "source": [
    "import os\n",
    "import student\n",
    "\n",
    "file_name = input(\"請輸入要存檔的檔案名稱:\")\n",
    "root = os.path.abspath(path=\"./\")\n",
    "filePath = os.path.join(root,'csv_data',f'{file_name}.csv')\n",
    "\n",
    "students = student.get_students(student_num=30)\n",
    "students"
   ]
  },
  {
   "cell_type": "code",
   "execution_count": 2,
   "metadata": {},
   "outputs": [
    {
     "name": "stdout",
     "output_type": "stream",
     "text": [
      "a1.csv存檔完成\n"
     ]
    }
   ],
   "source": [
    "import os\n",
    "import student\n",
    "\n",
    "file_name = input(\"請輸入要存檔的檔案名稱:\")\n",
    "root = os.path.abspath(path=\"./\")\n",
    "filePath = os.path.join(root,'csv_data',f'{file_name}.csv')\n",
    "\n",
    "students = student.get_students(student_num=30)\n",
    "students\n",
    "\n",
    "import csv\n",
    "with open(filePath,mode='w',encoding='utf-8',newline='') as file:\n",
    "    csv_writer = csv.writer(file)\n",
    "    csv_writer.writerow(['姓名', \"國文\", \"英文\", \"數學\", \"社會\", \"地理\"])\n",
    "    csv_writer.writerows(students)\n",
    "\n",
    "print(f\"{file_name}.csv存檔完成\")"
   ]
  },
  {
   "cell_type": "code",
   "execution_count": 4,
   "metadata": {},
   "outputs": [
    {
     "data": {
      "text/plain": [
       "[['陳淑萍', 64, 57, 87, 81, 94],\n",
       " ['許淑婷', 100, 87, 69, 73, 77],\n",
       " ['李政白', 84, 59, 57, 83, 99],\n",
       " ['高信宏', 88, 74, 95, 85, 70],\n",
       " ['張凡成', 65, 78, 83, 70, 65],\n",
       " ['張韋成', 93, 70, 59, 98, 62],\n",
       " ['馮芳如', 82, 89, 93, 67, 86],\n",
       " ['邱亭君', 97, 98, 52, 87, 72],\n",
       " ['蕭怡伶', 82, 83, 65, 73, 62],\n",
       " ['吳明妮', 63, 59, 65, 53, 60],\n",
       " ['林昱芳', 58, 63, 81, 72, 97],\n",
       " ['劉林中', 86, 60, 71, 91, 97],\n",
       " ['鞠冠宇', 72, 55, 65, 66, 75],\n",
       " ['林淑安', 79, 94, 74, 69, 76],\n",
       " ['王梅劭', 95, 64, 88, 58, 81],\n",
       " ['王坤安', 68, 56, 66, 66, 84],\n",
       " ['王品星', 63, 83, 64, 72, 61],\n",
       " ['王孝純', 59, 50, 97, 53, 62],\n",
       " ['余丞苓', 89, 58, 67, 66, 55],\n",
       " ['劉旭士', 86, 98, 52, 97, 50]]"
      ]
     },
     "metadata": {},
     "output_type": "display_data"
    },
    {
     "name": "stdout",
     "output_type": "stream",
     "text": [
      "a2.csv存檔完成\n"
     ]
    }
   ],
   "source": [
    "import csv\n",
    "nums = int(input(\"請輸入學生數:\"))\n",
    "students = student.get_students(student_num=nums)\n",
    "display(students)\n",
    "\n",
    "fileName = input(\"請問存檔名稱:(名稱,n)\")\n",
    "if fileName != 'n':\n",
    "    root = os.path.abspath(path=\"./\")\n",
    "    filePath = os.path.join(root,'csv_data',f'{fileName}.csv')\n",
    "    with open(filePath,mode='w',encoding='utf-8',newline='') as file:\n",
    "        csv_writer = csv.writer(file)\n",
    "        csv_writer.writerow(['姓名', \"國文\", \"英文\", \"數學\", \"社會\", \"地理\"])\n",
    "        csv_writer.writerows(students)\n",
    "    print(f\"{fileName}.csv存檔完成\")\n",
    "else:\n",
    "    print(\"應用程式結束\")"
   ]
  }
 ],
 "metadata": {
  "kernelspec": {
   "display_name": "Python 3",
   "language": "python",
   "name": "python3"
  },
  "language_info": {
   "codemirror_mode": {
    "name": "ipython",
    "version": 3
   },
   "file_extension": ".py",
   "mimetype": "text/x-python",
   "name": "python",
   "nbconvert_exporter": "python",
   "pygments_lexer": "ipython3",
   "version": "3.10.12"
  },
  "orig_nbformat": 4
 },
 "nbformat": 4,
 "nbformat_minor": 2
}
